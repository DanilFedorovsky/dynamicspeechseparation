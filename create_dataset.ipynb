{
 "cells": [
  {
   "cell_type": "code",
   "execution_count": 27,
   "metadata": {},
   "outputs": [
    {
     "name": "stdout",
     "output_type": "stream",
     "text": [
      "tr: 20000\n",
      "cv: 5000\n",
      "tt: 3000\n"
     ]
    }
   ],
   "source": [
    "wsj0path = \"/project/data_asr/wham_dataset/whamr_data/wsj0_raw/\"\n",
    "\n",
    "cv = []\n",
    "with open('mix_2_spk_cv.txt','r') as txt:\n",
    "    out = txt.readline()\n",
    "    while out != \"\":\n",
    "        out = out.split()\n",
    "        cv.append(out)\n",
    "        out = txt.readline()\n",
    "\n",
    "tr = []\n",
    "with open('mix_2_spk_tr.txt','r') as txt:\n",
    "    out = txt.readline()\n",
    "    while out != \"\":\n",
    "        out = out.split()\n",
    "        tr.append(out)\n",
    "        out = txt.readline()\n",
    "\n",
    "tt = []\n",
    "with open('mix_2_spk_tt.txt','r') as txt:\n",
    "    out = txt.readline()\n",
    "    while out != \"\":\n",
    "        out = out.split()\n",
    "        tt.append(out)\n",
    "        out = txt.readline()\n",
    "\n",
    "print(\"tr:\",len(tr))\n",
    "print(\"cv:\",len(cv))\n",
    "print(\"tt:\",len(tt))"
   ]
  },
  {
   "cell_type": "code",
   "execution_count": 28,
   "metadata": {},
   "outputs": [
    {
     "data": {
      "text/plain": [
       "tensor([[-3.0518e-05, -1.2207e-04,  1.2207e-04,  ..., -3.0518e-05,\n",
       "         -9.1553e-05, -2.4414e-04]])"
      ]
     },
     "execution_count": 28,
     "metadata": {},
     "output_type": "execute_result"
    }
   ],
   "source": [
    "import torchaudio\n",
    "\n",
    "a,b = torchaudio.load(wsj0path+tr[0][0])\n",
    "a"
   ]
  }
 ],
 "metadata": {
  "kernelspec": {
   "display_name": "Python 3.9.12 ('beamformer')",
   "language": "python",
   "name": "python3"
  },
  "language_info": {
   "codemirror_mode": {
    "name": "ipython",
    "version": 3
   },
   "file_extension": ".py",
   "mimetype": "text/x-python",
   "name": "python",
   "nbconvert_exporter": "python",
   "pygments_lexer": "ipython3",
   "version": "3.9.12"
  },
  "orig_nbformat": 4,
  "vscode": {
   "interpreter": {
    "hash": "7edcfa7c72349f2a40b8bb9d00f805dd689758e4b70f704e502841c884b714f7"
   }
  }
 },
 "nbformat": 4,
 "nbformat_minor": 2
}
