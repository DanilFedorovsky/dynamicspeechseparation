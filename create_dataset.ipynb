{
 "cells": [
  {
   "cell_type": "code",
   "execution_count": 1,
   "metadata": {},
   "outputs": [],
   "source": [
    "import numpy as np\n",
    "import matplotlib.pyplot as plt\n",
    "import pyroomacoustics as pra\n",
    "from scipy.io import wavfile\n",
    "import os\n",
    "from tqdm import tqdm\n",
    "import torchaudio\n",
    "import torch\n",
    "from scipy.io import wavfile"
   ]
  },
  {
   "cell_type": "code",
   "execution_count": 2,
   "metadata": {},
   "outputs": [
    {
     "name": "stdout",
     "output_type": "stream",
     "text": [
      "tr: 20000\n",
      "cv: 5000\n",
      "tt: 3000\n",
      "['wsj0/si_tr_s/40n/40na010x.wav', 'wsj0/si_tr_s/01x/01xo031a.wav']\n"
     ]
    }
   ],
   "source": [
    "wsj0path = \"/project/data_asr/wham_dataset/whamr_data/wsj0_raw/\"\n",
    "\n",
    "cv = []\n",
    "with open('mix_2_spk_cv.txt','r') as txt:\n",
    "    out = txt.readline()\n",
    "    while out != \"\":\n",
    "        out = out.split()\n",
    "        cv.append([out[0],out[2]])\n",
    "        out = txt.readline()\n",
    "\n",
    "tr = []\n",
    "with open('mix_2_spk_tr.txt','r') as txt:\n",
    "    out = txt.readline()\n",
    "    while out != \"\":\n",
    "        out = out.split()\n",
    "        tr.append([out[0],out[2]])\n",
    "        out = txt.readline()\n",
    "\n",
    "tt = []\n",
    "with open('mix_2_spk_tt.txt','r') as txt:\n",
    "    out = txt.readline()\n",
    "    while out != \"\":\n",
    "        out = out.split()\n",
    "        tt.append([out[0],out[2]])\n",
    "        out = txt.readline()\n",
    "\n",
    "print(\"tr:\",len(tr))\n",
    "print(\"cv:\",len(cv))\n",
    "print(\"tt:\",len(tt))\n",
    "print(tr[0])"
   ]
  },
  {
   "cell_type": "code",
   "execution_count": 3,
   "metadata": {},
   "outputs": [
    {
     "data": {
      "text/plain": [
       "'40na010x'"
      ]
     },
     "execution_count": 3,
     "metadata": {},
     "output_type": "execute_result"
    }
   ],
   "source": [
    "tr[0][0].split(\"/\")[-1][:-4]"
   ]
  },
  {
   "cell_type": "code",
   "execution_count": 4,
   "metadata": {},
   "outputs": [],
   "source": [
    "def same_length(a:torch.Tensor,b:torch.Tensor):\n",
    "    len_a = a.shape[1]\n",
    "    len_b = b.shape[1]\n",
    "    if len_a > len_b:\n",
    "        add = len_a - len_b\n",
    "        b = torch.cat([b,torch.zeros(add).unsqueeze(0)],dim=1)\n",
    "    elif len_b > len_a:\n",
    "        add = len_b - len_a\n",
    "        a = torch.cat([a,torch.zeros(add).unsqueeze(0)],dim=1)\n",
    "    return a, b"
   ]
  },
  {
   "cell_type": "code",
   "execution_count": 26,
   "metadata": {},
   "outputs": [
    {
     "name": "stdout",
     "output_type": "stream",
     "text": [
      "/project/data_asr/wham_dataset/whamr_data/wsj0_raw/wsj0/si_tr_s/01t/01to030v.wav\n",
      "155419\n",
      "61760\n",
      "/project/data_asr/wham_dataset/whamr_data/wsj0_raw/wsj0/si_tr_s/40n/40na010x.wav\n",
      "105827\n",
      "185099\n",
      "/project/data_asr/wham_dataset/whamr_data/wsj0_raw/wsj0/si_et_05/445/445c0206.wav\n",
      "66602\n",
      "85440\n"
     ]
    },
    {
     "data": {
      "text/plain": [
       "'Done'"
      ]
     },
     "execution_count": 26,
     "metadata": {},
     "output_type": "execute_result"
    },
    {
     "data": {
      "image/png": "[encoded data removed]",
      "text/plain": [
       "<Figure size 432x288 with 1 Axes>"
      ]
     },
     "metadata": {
      "needs_background": "light"
     },
     "output_type": "display_data"
    },
    {
     "data": {
      "image/png": "[encoded data removed]",
      "text/plain": [
       "<Figure size 432x288 with 1 Axes>"
      ]
     },
     "metadata": {
      "needs_background": "light"
     },
     "output_type": "display_data"
    },
    {
     "data": {
      "image/png": "[encoded data removed]",
      "text/plain": [
       "<Figure size 432x288 with 1 Axes>"
      ]
     },
     "metadata": {
      "needs_background": "light"
     },
     "output_type": "display_data"
    }
   ],
   "source": [
    "CREATE_PATH = \"/project/data_asr/CHiME5/data/wsj0-mix2/twoChannelRoom/\"\n",
    "\n",
    "def create_dataset(part: list, subfolder: str):\n",
    "    scenarios = [\"mix/\",\"s1/\",\"s2/\"]\n",
    "    for scenario in scenarios:\n",
    "        print(\"Generate\",scenario,\"for\",subfolder)\n",
    "        for line in tqdm(part):\n",
    "            # Load two audiofiles\n",
    "            \n",
    "            fs, wav_a = wavfile.read(wsj0path+line[0])\n",
    "            fs, wav_b = wavfile.read(wsj0path+line[1])\n",
    "            #wav_a, wav_b = same_length(wav_a,wav_b)\n",
    "\n",
    "            # Simulate room and obtain mix / s1 / s2\n",
    "            room = pra.ShoeBox([4,6], fs=fs)\n",
    "\n",
    "            if scenario == \"mix/\":\n",
    "                room.add_source([2.5, 3.5], signal=wav_a, delay=0)\n",
    "                room.add_source([0.5, 3.0], signal=wav_b, delay=0)\n",
    "                R = pra.linear_2D_array([2, 1.5], 2, 0, 0.1)\n",
    "                room.add_microphone_array(pra.Beamformer(R, room.fs))\n",
    "            elif scenario == \"s1/\":\n",
    "                room.add_source([2.5, 3.5], signal=wav_a, delay=0)\n",
    "                R = pra.linear_2D_array([2, 1.5], 1, 0, 0.1)\n",
    "                room.add_microphone_array(pra.Beamformer(R, room.fs))\n",
    "            elif scenario == \"s2/\":\n",
    "                room.add_source([0.5, 3.0], signal=wav_b, delay=0)\n",
    "                R = pra.linear_2D_array([2, 1.5], 1, 0, 0.1)\n",
    "                room.add_microphone_array(pra.Beamformer(R, room.fs))\n",
    "            \n",
    "            room.simulate()\n",
    "\n",
    "            name_file = line[0].split(\"/\")[-1][:-4] + \"_\" + line[1].split(\"/\")[-1]\n",
    "            room.mic_array.to_wav(\n",
    "                (CREATE_PATH + subfolder + scenario + name_file),\n",
    "                norm=True,\n",
    "                bitdepth=np.int16,\n",
    "            )\n",
    "    return \"Done\"\n",
    "\n",
    "create_dataset(cv,\"cv/\")\n",
    "create_dataset(tr,\"tr/\")\n",
    "create_dataset(tt,\"tt/\")"
   ]
  }
 ],
 "metadata": {
  "kernelspec": {
   "display_name": "Python 3.9.12 ('beamformer')",
   "language": "python",
   "name": "python3"
  },
  "language_info": {
   "codemirror_mode": {
    "name": "ipython",
    "version": 3
   },
   "file_extension": ".py",
   "mimetype": "text/x-python",
   "name": "python",
   "nbconvert_exporter": "python",
   "pygments_lexer": "ipython3",
   "version": "3.9.12"
  },
  "orig_nbformat": 4,
  "vscode": {
   "interpreter": {
    "hash": "7edcfa7c72349f2a40b8bb9d00f805dd689758e4b70f704e502841c884b714f7"
   }
  }
 },
 "nbformat": 4,
 "nbformat_minor": 2
}
