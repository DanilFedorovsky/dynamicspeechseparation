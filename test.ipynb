{
 "cells": [
  {
   "cell_type": "code",
   "execution_count": 1,
   "metadata": {},
   "outputs": [],
   "source": [
    "import torchaudio"
   ]
  },
  {
   "cell_type": "code",
   "execution_count": 8,
   "metadata": {},
   "outputs": [
    {
     "name": "stdout",
     "output_type": "stream",
     "text": [
      "torch.Size([1, 33982])\n"
     ]
    }
   ],
   "source": [
    "# One channel data works\n",
    "a,b = torchaudio.load(\"/project/data_asr/CHiME5/data/wsj0-mix2/oneChannelRoom/tr/mix/01aa010b_0.97482_209a010p_-0.97482.wav\")\n",
    "print(a.shape)"
   ]
  },
  {
   "cell_type": "code",
   "execution_count": 12,
   "metadata": {},
   "outputs": [
    {
     "name": "stdout",
     "output_type": "stream",
     "text": [
      "torch.Size([2, 33982])\n"
     ]
    }
   ],
   "source": [
    "a,b = torchaudio.load(\"/project/data_asr/CHiME5/data/wsj0-mix2/twoChannelRoom/tr/mix/01aa010b_0.97482_209a010p_-0.97482.wav\")\n",
    "print(a.shape)"
   ]
  },
  {
   "cell_type": "code",
   "execution_count": 14,
   "metadata": {},
   "outputs": [],
   "source": [
    "# Two channel data does not\n",
    "a,b = torchaudio.load(\"/project/data_asr/CHiME5/data/danil/dynamicspeechseparation/svoice2/dataset/mixtest/mix/01aa010b_0.97482_209a010p_-0.97482.wav\")"
   ]
  }
 ],
 "metadata": {
  "kernelspec": {
   "display_name": "Python 3.9.12 ('beamformer')",
   "language": "python",
   "name": "python3"
  },
  "language_info": {
   "codemirror_mode": {
    "name": "ipython",
    "version": 3
   },
   "file_extension": ".py",
   "mimetype": "text/x-python",
   "name": "python",
   "nbconvert_exporter": "python",
   "pygments_lexer": "ipython3",
   "version": "3.9.12"
  },
  "orig_nbformat": 4,
  "vscode": {
   "interpreter": {
    "hash": "7edcfa7c72349f2a40b8bb9d00f805dd689758e4b70f704e502841c884b714f7"
   }
  }
 },
 "nbformat": 4,
 "nbformat_minor": 2
}
